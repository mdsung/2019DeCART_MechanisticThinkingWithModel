{
 "cells": [
  {
   "cell_type": "code",
   "execution_count": 1,
   "metadata": {},
   "outputs": [
    {
     "name": "stdout",
     "output_type": "stream",
     "text": [
      "Collecting lifelines\n",
      "\u001b[?25l  Downloading https://files.pythonhosted.org/packages/04/1c/858ded2da5292e6915d56bc5bfb71d8d3c08fa88fc7b209ff5305fd26dde/lifelines-0.22.2-py2.py3-none-any.whl (329kB)\n",
      "\u001b[K     |████████████████████████████████| 337kB 890kB/s eta 0:00:01\n",
      "\u001b[?25hRequirement already satisfied: scipy>=1.0 in /opt/conda/lib/python3.7/site-packages (from lifelines) (1.2.1)\n",
      "Collecting autograd-gamma>=0.3 (from lifelines)\n",
      "  Downloading https://files.pythonhosted.org/packages/3e/87/788c4bf90cc5c534cb3b7fdb5b719175e33e2658decce75e35e2ce69766f/autograd_gamma-0.4.1-py2.py3-none-any.whl\n",
      "Requirement already satisfied: pandas>=0.23.0 in /opt/conda/lib/python3.7/site-packages (from lifelines) (0.24.2)\n",
      "Requirement already satisfied: matplotlib>=3.0 in /opt/conda/lib/python3.7/site-packages (from lifelines) (3.0.3)\n",
      "Collecting autograd>=1.2 (from lifelines)\n",
      "  Downloading https://files.pythonhosted.org/packages/23/12/b58522dc2cbbd7ab939c7b8e5542c441c9a06a8eccb00b3ecac04a739896/autograd-1.3.tar.gz\n",
      "Requirement already satisfied: numpy>=1.14.0 in /opt/conda/lib/python3.7/site-packages (from lifelines) (1.16.4)\n",
      "Collecting bottleneck>=1.0 (from lifelines)\n",
      "\u001b[?25l  Downloading https://files.pythonhosted.org/packages/05/ae/cedf5323f398ab4e4ff92d6c431a3e1c6a186f9b41ab3e8258dff786a290/Bottleneck-1.2.1.tar.gz (105kB)\n",
      "\u001b[K     |████████████████████████████████| 112kB 6.0MB/s eta 0:00:01\n",
      "\u001b[?25hRequirement already satisfied: pytz>=2011k in /opt/conda/lib/python3.7/site-packages (from pandas>=0.23.0->lifelines) (2019.1)\n",
      "Requirement already satisfied: python-dateutil>=2.5.0 in /opt/conda/lib/python3.7/site-packages (from pandas>=0.23.0->lifelines) (2.8.0)\n",
      "Requirement already satisfied: cycler>=0.10 in /opt/conda/lib/python3.7/site-packages (from matplotlib>=3.0->lifelines) (0.10.0)\n",
      "Requirement already satisfied: kiwisolver>=1.0.1 in /opt/conda/lib/python3.7/site-packages (from matplotlib>=3.0->lifelines) (1.1.0)\n",
      "Requirement already satisfied: pyparsing!=2.0.4,!=2.1.2,!=2.1.6,>=2.0.1 in /opt/conda/lib/python3.7/site-packages (from matplotlib>=3.0->lifelines) (2.4.0)\n",
      "Collecting future>=0.15.2 (from autograd>=1.2->lifelines)\n",
      "\u001b[?25l  Downloading https://files.pythonhosted.org/packages/90/52/e20466b85000a181e1e144fd8305caf2cf475e2f9674e797b222f8105f5f/future-0.17.1.tar.gz (829kB)\n",
      "\u001b[K     |████████████████████████████████| 829kB 6.0MB/s eta 0:00:01\n",
      "\u001b[?25hRequirement already satisfied: six>=1.5 in /opt/conda/lib/python3.7/site-packages (from python-dateutil>=2.5.0->pandas>=0.23.0->lifelines) (1.12.0)\n",
      "Requirement already satisfied: setuptools in /opt/conda/lib/python3.7/site-packages (from kiwisolver>=1.0.1->matplotlib>=3.0->lifelines) (41.0.1)\n",
      "Building wheels for collected packages: autograd, bottleneck, future\n",
      "  Building wheel for autograd (setup.py) ... \u001b[?25ldone\n",
      "\u001b[?25h  Stored in directory: /home/mdsung/.cache/pip/wheels/42/62/66/1121afe23ff96af4e452e0d15e68761e3f605952ee075ca99f\n",
      "  Building wheel for bottleneck (setup.py) ... \u001b[?25ldone\n",
      "\u001b[?25h  Stored in directory: /home/mdsung/.cache/pip/wheels/f2/bf/ec/e0f39aa27001525ad455139ee57ec7d0776fe074dfd78c97e4\n",
      "  Building wheel for future (setup.py) ... \u001b[?25ldone\n",
      "\u001b[?25h  Stored in directory: /home/mdsung/.cache/pip/wheels/0c/61/d2/d6b7317325828fbb39ee6ad559dbe4664d0896da4721bf379e\n",
      "Successfully built autograd bottleneck future\n",
      "Installing collected packages: future, autograd, autograd-gamma, bottleneck, lifelines\n",
      "Successfully installed autograd-1.3 autograd-gamma-0.4.1 bottleneck-1.2.1 future-0.17.1 lifelines-0.22.2\n"
     ]
    }
   ],
   "source": [
    "!pip install lifelines\n"
   ]
  },
  {
   "cell_type": "code",
   "execution_count": 14,
   "metadata": {},
   "outputs": [],
   "source": [
    "from lifelines import KaplanMeierFitter\n",
    "import pandas as pd\n",
    "%matplotlib inline"
   ]
  },
  {
   "cell_type": "code",
   "execution_count": 12,
   "metadata": {},
   "outputs": [
    {
     "data": {
      "text/html": [
       "<div>\n",
       "<style scoped>\n",
       "    .dataframe tbody tr th:only-of-type {\n",
       "        vertical-align: middle;\n",
       "    }\n",
       "\n",
       "    .dataframe tbody tr th {\n",
       "        vertical-align: top;\n",
       "    }\n",
       "\n",
       "    .dataframe thead th {\n",
       "        text-align: right;\n",
       "    }\n",
       "</style>\n",
       "<table border=\"1\" class=\"dataframe\">\n",
       "  <thead>\n",
       "    <tr style=\"text-align: right;\">\n",
       "      <th></th>\n",
       "      <th>id</th>\n",
       "      <th>YRM</th>\n",
       "      <th>age</th>\n",
       "      <th>sex</th>\n",
       "      <th>fev1pct</th>\n",
       "      <th>pseudo</th>\n",
       "      <th>mssa</th>\n",
       "      <th>jedate</th>\n",
       "      <th>jlastdate</th>\n",
       "      <th>jddate</th>\n",
       "      <th>dflag1yr</th>\n",
       "      <th>dflag5yr</th>\n",
       "      <th>survdays</th>\n",
       "      <th>dflag</th>\n",
       "    </tr>\n",
       "  </thead>\n",
       "  <tbody>\n",
       "    <tr>\n",
       "      <th>0</th>\n",
       "      <td>123462</td>\n",
       "      <td>2010</td>\n",
       "      <td>10.0</td>\n",
       "      <td>0</td>\n",
       "      <td>91.20</td>\n",
       "      <td>0</td>\n",
       "      <td>0</td>\n",
       "      <td>18508</td>\n",
       "      <td>20453</td>\n",
       "      <td>NaN</td>\n",
       "      <td>0</td>\n",
       "      <td>0</td>\n",
       "      <td>1945</td>\n",
       "      <td>0</td>\n",
       "    </tr>\n",
       "    <tr>\n",
       "      <th>1</th>\n",
       "      <td>123518</td>\n",
       "      <td>2005</td>\n",
       "      <td>6.4</td>\n",
       "      <td>0</td>\n",
       "      <td>115.50</td>\n",
       "      <td>1</td>\n",
       "      <td>0</td>\n",
       "      <td>16663</td>\n",
       "      <td>20453</td>\n",
       "      <td>NaN</td>\n",
       "      <td>0</td>\n",
       "      <td>0</td>\n",
       "      <td>3790</td>\n",
       "      <td>0</td>\n",
       "    </tr>\n",
       "    <tr>\n",
       "      <th>2</th>\n",
       "      <td>123550</td>\n",
       "      <td>1994</td>\n",
       "      <td>14.0</td>\n",
       "      <td>0</td>\n",
       "      <td>86.59</td>\n",
       "      <td>0</td>\n",
       "      <td>0</td>\n",
       "      <td>12441</td>\n",
       "      <td>18992</td>\n",
       "      <td>18762.0</td>\n",
       "      <td>0</td>\n",
       "      <td>0</td>\n",
       "      <td>6551</td>\n",
       "      <td>1</td>\n",
       "    </tr>\n",
       "    <tr>\n",
       "      <th>3</th>\n",
       "      <td>123552</td>\n",
       "      <td>2003</td>\n",
       "      <td>6.9</td>\n",
       "      <td>0</td>\n",
       "      <td>88.93</td>\n",
       "      <td>1</td>\n",
       "      <td>1</td>\n",
       "      <td>15714</td>\n",
       "      <td>20453</td>\n",
       "      <td>NaN</td>\n",
       "      <td>0</td>\n",
       "      <td>0</td>\n",
       "      <td>4739</td>\n",
       "      <td>0</td>\n",
       "    </tr>\n",
       "    <tr>\n",
       "      <th>4</th>\n",
       "      <td>123597</td>\n",
       "      <td>1993</td>\n",
       "      <td>54.0</td>\n",
       "      <td>1</td>\n",
       "      <td>60.91</td>\n",
       "      <td>0</td>\n",
       "      <td>1</td>\n",
       "      <td>12085</td>\n",
       "      <td>18992</td>\n",
       "      <td>18842.0</td>\n",
       "      <td>0</td>\n",
       "      <td>0</td>\n",
       "      <td>6907</td>\n",
       "      <td>1</td>\n",
       "    </tr>\n",
       "  </tbody>\n",
       "</table>\n",
       "</div>"
      ],
      "text/plain": [
       "       id   YRM   age  sex  fev1pct  pseudo  mssa  jedate  jlastdate   jddate  \\\n",
       "0  123462  2010  10.0    0    91.20       0     0   18508      20453      NaN   \n",
       "1  123518  2005   6.4    0   115.50       1     0   16663      20453      NaN   \n",
       "2  123550  1994  14.0    0    86.59       0     0   12441      18992  18762.0   \n",
       "3  123552  2003   6.9    0    88.93       1     1   15714      20453      NaN   \n",
       "4  123597  1993  54.0    1    60.91       0     1   12085      18992  18842.0   \n",
       "\n",
       "   dflag1yr  dflag5yr  survdays  dflag  \n",
       "0         0         0      1945      0  \n",
       "1         0         0      3790      0  \n",
       "2         0         0      6551      1  \n",
       "3         0         0      4739      0  \n",
       "4         0         0      6907      1  "
      ]
     },
     "execution_count": 12,
     "metadata": {},
     "output_type": "execute_result"
    }
   ],
   "source": [
    "cf = pd.read_csv(\"Data/cffirst.csv\")\n",
    "cf.head()"
   ]
  },
  {
   "cell_type": "code",
   "execution_count": 15,
   "metadata": {},
   "outputs": [
    {
     "data": {
      "text/plain": [
       "<matplotlib.axes._subplots.AxesSubplot at 0x7f80ac785c88>"
      ]
     },
     "execution_count": 15,
     "metadata": {},
     "output_type": "execute_result"
    },
    {
     "data": {
      "image/png": "[encoded data removed]",
      "text/plain": [
       "<Figure size 432x288 with 1 Axes>"
      ]
     },
     "metadata": {
      "needs_background": "light"
     },
     "output_type": "display_data"
    }
   ],
   "source": [
    "kmf = KaplanMeierFitter()\n",
    "kmf.fit(cf.survdays, cf.dflag)\n",
    "kmf.plot()\n",
    "\n"
   ]
  },
  {
   "cell_type": "code",
   "execution_count": null,
   "metadata": {},
   "outputs": [],
   "source": []
  }
 ],
 "metadata": {
  "kernelspec": {
   "display_name": "Python 3",
   "language": "python",
   "name": "python3"
  },
  "language_info": {
   "codemirror_mode": {
    "name": "ipython",
    "version": 3
   },
   "file_extension": ".py",
   "mimetype": "text/x-python",
   "name": "python",
   "nbconvert_exporter": "python",
   "pygments_lexer": "ipython3",
   "version": "3.7.3"
  }
 },
 "nbformat": 4,
 "nbformat_minor": 2
}

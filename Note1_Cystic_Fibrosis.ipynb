{
 "cells": [
  {
   "cell_type": "markdown",
   "metadata": {},
   "source": [
    "# Cystic Fibrosis \n",
    "* genetic disease\n",
    "* Mutation on CFTR - Cl channel"
   ]
  },
  {
   "cell_type": "markdown",
   "metadata": {},
   "source": [
    "## Read the file"
   ]
  },
  {
   "cell_type": "code",
   "execution_count": 6,
   "metadata": {},
   "outputs": [],
   "source": [
    "cf <- read.csv(\"Data/cf.csv\")"
   ]
  },
  {
   "cell_type": "code",
   "execution_count": 8,
   "metadata": {},
   "outputs": [
    {
     "data": {
      "text/html": [
       "<table>\n",
       "<caption>A data.frame: 6 × 14</caption>\n",
       "<thead>\n",
       "\t<tr><th scope=col>id</th><th scope=col>YRM</th><th scope=col>age</th><th scope=col>sex</th><th scope=col>fev1pct</th><th scope=col>pseudo</th><th scope=col>mssa</th><th scope=col>jedate</th><th scope=col>jlastdate</th><th scope=col>jddate</th><th scope=col>dflag1yr</th><th scope=col>dflag5yr</th><th scope=col>survdays</th><th scope=col>dflag</th></tr>\n",
       "\t<tr><th scope=col>&lt;int&gt;</th><th scope=col>&lt;int&gt;</th><th scope=col>&lt;dbl&gt;</th><th scope=col>&lt;int&gt;</th><th scope=col>&lt;dbl&gt;</th><th scope=col>&lt;int&gt;</th><th scope=col>&lt;int&gt;</th><th scope=col>&lt;int&gt;</th><th scope=col>&lt;int&gt;</th><th scope=col>&lt;int&gt;</th><th scope=col>&lt;int&gt;</th><th scope=col>&lt;int&gt;</th><th scope=col>&lt;int&gt;</th><th scope=col>&lt;int&gt;</th></tr>\n",
       "</thead>\n",
       "<tbody>\n",
       "\t<tr><td>123462</td><td>2010</td><td>10</td><td>0</td><td>91.20</td><td>0</td><td>0</td><td>18508</td><td>20453</td><td>NA</td><td>0</td><td>0</td><td>1945</td><td>0</td></tr>\n",
       "\t<tr><td>123462</td><td>2011</td><td>11</td><td>0</td><td>88.32</td><td>0</td><td>0</td><td>18704</td><td>20453</td><td>NA</td><td>0</td><td>0</td><td>1749</td><td>0</td></tr>\n",
       "\t<tr><td>123462</td><td>2012</td><td>12</td><td>0</td><td>87.89</td><td>0</td><td>1</td><td>19019</td><td>20453</td><td>NA</td><td>0</td><td>0</td><td>1434</td><td>0</td></tr>\n",
       "\t<tr><td>123462</td><td>2013</td><td>13</td><td>0</td><td>92.94</td><td>0</td><td>1</td><td>19446</td><td>20453</td><td>NA</td><td>0</td><td>0</td><td>1007</td><td>0</td></tr>\n",
       "\t<tr><td>123462</td><td>2014</td><td>14</td><td>0</td><td>85.19</td><td>0</td><td>1</td><td>19782</td><td>20453</td><td>NA</td><td>0</td><td>0</td><td> 671</td><td>0</td></tr>\n",
       "\t<tr><td>123462</td><td>2015</td><td>15</td><td>0</td><td>72.92</td><td>0</td><td>0</td><td>20189</td><td>20453</td><td>NA</td><td>0</td><td>0</td><td> 264</td><td>0</td></tr>\n",
       "</tbody>\n",
       "</table>\n"
      ],
      "text/latex": [
       "A data.frame: 6 × 14\n",
       "\\begin{tabular}{r|llllllllllllll}\n",
       " id & YRM & age & sex & fev1pct & pseudo & mssa & jedate & jlastdate & jddate & dflag1yr & dflag5yr & survdays & dflag\\\\\n",
       " <int> & <int> & <dbl> & <int> & <dbl> & <int> & <int> & <int> & <int> & <int> & <int> & <int> & <int> & <int>\\\\\n",
       "\\hline\n",
       "\t 123462 & 2010 & 10 & 0 & 91.20 & 0 & 0 & 18508 & 20453 & NA & 0 & 0 & 1945 & 0\\\\\n",
       "\t 123462 & 2011 & 11 & 0 & 88.32 & 0 & 0 & 18704 & 20453 & NA & 0 & 0 & 1749 & 0\\\\\n",
       "\t 123462 & 2012 & 12 & 0 & 87.89 & 0 & 1 & 19019 & 20453 & NA & 0 & 0 & 1434 & 0\\\\\n",
       "\t 123462 & 2013 & 13 & 0 & 92.94 & 0 & 1 & 19446 & 20453 & NA & 0 & 0 & 1007 & 0\\\\\n",
       "\t 123462 & 2014 & 14 & 0 & 85.19 & 0 & 1 & 19782 & 20453 & NA & 0 & 0 &  671 & 0\\\\\n",
       "\t 123462 & 2015 & 15 & 0 & 72.92 & 0 & 0 & 20189 & 20453 & NA & 0 & 0 &  264 & 0\\\\\n",
       "\\end{tabular}\n"
      ],
      "text/markdown": [
       "\n",
       "A data.frame: 6 × 14\n",
       "\n",
       "| id &lt;int&gt; | YRM &lt;int&gt; | age &lt;dbl&gt; | sex &lt;int&gt; | fev1pct &lt;dbl&gt; | pseudo &lt;int&gt; | mssa &lt;int&gt; | jedate &lt;int&gt; | jlastdate &lt;int&gt; | jddate &lt;int&gt; | dflag1yr &lt;int&gt; | dflag5yr &lt;int&gt; | survdays &lt;int&gt; | dflag &lt;int&gt; |\n",
       "|---|---|---|---|---|---|---|---|---|---|---|---|---|---|\n",
       "| 123462 | 2010 | 10 | 0 | 91.20 | 0 | 0 | 18508 | 20453 | NA | 0 | 0 | 1945 | 0 |\n",
       "| 123462 | 2011 | 11 | 0 | 88.32 | 0 | 0 | 18704 | 20453 | NA | 0 | 0 | 1749 | 0 |\n",
       "| 123462 | 2012 | 12 | 0 | 87.89 | 0 | 1 | 19019 | 20453 | NA | 0 | 0 | 1434 | 0 |\n",
       "| 123462 | 2013 | 13 | 0 | 92.94 | 0 | 1 | 19446 | 20453 | NA | 0 | 0 | 1007 | 0 |\n",
       "| 123462 | 2014 | 14 | 0 | 85.19 | 0 | 1 | 19782 | 20453 | NA | 0 | 0 |  671 | 0 |\n",
       "| 123462 | 2015 | 15 | 0 | 72.92 | 0 | 0 | 20189 | 20453 | NA | 0 | 0 |  264 | 0 |\n",
       "\n"
      ],
      "text/plain": [
       "  id     YRM  age sex fev1pct pseudo mssa jedate jlastdate jddate dflag1yr\n",
       "1 123462 2010 10  0   91.20   0      0    18508  20453     NA     0       \n",
       "2 123462 2011 11  0   88.32   0      0    18704  20453     NA     0       \n",
       "3 123462 2012 12  0   87.89   0      1    19019  20453     NA     0       \n",
       "4 123462 2013 13  0   92.94   0      1    19446  20453     NA     0       \n",
       "5 123462 2014 14  0   85.19   0      1    19782  20453     NA     0       \n",
       "6 123462 2015 15  0   72.92   0      0    20189  20453     NA     0       \n",
       "  dflag5yr survdays dflag\n",
       "1 0        1945     0    \n",
       "2 0        1749     0    \n",
       "3 0        1434     0    \n",
       "4 0        1007     0    \n",
       "5 0         671     0    \n",
       "6 0         264     0    "
      ]
     },
     "metadata": {},
     "output_type": "display_data"
    },
    {
     "data": {
      "text/html": [
       "<ol class=list-inline>\n",
       "\t<li>'id'</li>\n",
       "\t<li>'YRM'</li>\n",
       "\t<li>'age'</li>\n",
       "\t<li>'sex'</li>\n",
       "\t<li>'fev1pct'</li>\n",
       "\t<li>'pseudo'</li>\n",
       "\t<li>'mssa'</li>\n",
       "\t<li>'jedate'</li>\n",
       "\t<li>'jlastdate'</li>\n",
       "\t<li>'jddate'</li>\n",
       "\t<li>'dflag1yr'</li>\n",
       "\t<li>'dflag5yr'</li>\n",
       "\t<li>'survdays'</li>\n",
       "\t<li>'dflag'</li>\n",
       "</ol>\n"
      ],
      "text/latex": [
       "\\begin{enumerate*}\n",
       "\\item 'id'\n",
       "\\item 'YRM'\n",
       "\\item 'age'\n",
       "\\item 'sex'\n",
       "\\item 'fev1pct'\n",
       "\\item 'pseudo'\n",
       "\\item 'mssa'\n",
       "\\item 'jedate'\n",
       "\\item 'jlastdate'\n",
       "\\item 'jddate'\n",
       "\\item 'dflag1yr'\n",
       "\\item 'dflag5yr'\n",
       "\\item 'survdays'\n",
       "\\item 'dflag'\n",
       "\\end{enumerate*}\n"
      ],
      "text/markdown": [
       "1. 'id'\n",
       "2. 'YRM'\n",
       "3. 'age'\n",
       "4. 'sex'\n",
       "5. 'fev1pct'\n",
       "6. 'pseudo'\n",
       "7. 'mssa'\n",
       "8. 'jedate'\n",
       "9. 'jlastdate'\n",
       "10. 'jddate'\n",
       "11. 'dflag1yr'\n",
       "12. 'dflag5yr'\n",
       "13. 'survdays'\n",
       "14. 'dflag'\n",
       "\n",
       "\n"
      ],
      "text/plain": [
       " [1] \"id\"        \"YRM\"       \"age\"       \"sex\"       \"fev1pct\"   \"pseudo\"   \n",
       " [7] \"mssa\"      \"jedate\"    \"jlastdate\" \"jddate\"    \"dflag1yr\"  \"dflag5yr\" \n",
       "[13] \"survdays\"  \"dflag\"    "
      ]
     },
     "metadata": {},
     "output_type": "display_data"
    }
   ],
   "source": [
    "head(cf)\n",
    "names(cf)"
   ]
  },
  {
   "cell_type": "code",
   "execution_count": null,
   "metadata": {},
   "outputs": [],
   "source": []
  }
 ],
 "metadata": {
  "kernelspec": {
   "display_name": "R",
   "language": "R",
   "name": "ir"
  },
  "language_info": {
   "codemirror_mode": "r",
   "file_extension": ".r",
   "mimetype": "text/x-r-source",
   "name": "R",
   "pygments_lexer": "r",
   "version": "3.5.1"
  }
 },
 "nbformat": 4,
 "nbformat_minor": 2
}
